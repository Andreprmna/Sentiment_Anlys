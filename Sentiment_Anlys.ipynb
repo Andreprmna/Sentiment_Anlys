{
  "nbformat": 4,
  "nbformat_minor": 0,
  "metadata": {
    "colab": {
      "name": "Sentiment Anlys.ipynb",
      "provenance": []
    },
    "kernelspec": {
      "name": "python3",
      "display_name": "Python 3"
    },
    "language_info": {
      "name": "python"
    }
  },
  "cells": [
    {
      "cell_type": "code",
      "execution_count": null,
      "metadata": {
        "id": "8Oqaoz5pZpbA"
      },
      "outputs": [],
      "source": [
        "import tweepy\n",
        "import pandas as pd\n",
        "import re\n",
        "from textblob import TextBlob\n",
        "from wordcloud import WordCloud\n",
        "import matplotlib.pyplot as plt"
      ]
    },
    {
      "cell_type": "code",
      "source": [
        "auth = tweepy.OAuthHandler(api_key,api_secret_key)\n",
        "auth.set_access_token(access_token,access_token_secret)\n",
        "api = tweepy.API(auth)"
      ],
      "metadata": {
        "id": "BfeScALMZwTg"
      },
      "execution_count": null,
      "outputs": []
    },
    {
      "cell_type": "code",
      "source": [
        "searchfile = api.search(q=\"upaya vaksinasi -filter:retweets\",lang=\"id\",count=250,tweet_mode=\"extended\")"
      ],
      "metadata": {
        "id": "ZmY3LL1GZynW"
      },
      "execution_count": null,
      "outputs": []
    },
    {
      "cell_type": "code",
      "source": [
        "for tweet in searchfile[0:5]:\n",
        "    print(tweet.full_text + '\\n')"
      ],
      "metadata": {
        "id": "csJwhKTvZ0Ue"
      },
      "execution_count": null,
      "outputs": []
    },
    {
      "cell_type": "code",
      "source": [
        "tweets = []\n",
        "users = []\n",
        "for tweet in searchfile:\n",
        "    tweet_usr = tweet.full_text\n",
        "    username = tweet.user.screen_name\n",
        "    tweets.append(tweet_usr)\n",
        "    users.append(username)\n",
        "data_tweet = list(zip(users, tweets))"
      ],
      "metadata": {
        "id": "fWZy5tQcZ2ae"
      },
      "execution_count": null,
      "outputs": []
    },
    {
      "cell_type": "code",
      "source": [
        "#create Dataframe\n",
        "df_content = pd.DataFrame(data_tweet , columns=['UserName','Tweet'])\n",
        "df_content.head()"
      ],
      "metadata": {
        "id": "IcLxOWbrZ4v-"
      },
      "execution_count": null,
      "outputs": []
    },
    {
      "cell_type": "code",
      "source": [
        "def cleaning_txt(text):\n",
        "    text = ' '.join(re.sub(\"(@[A-Za-z0-9]+)|([^0-9A-Za-z \\t])|(\\w+:\\/\\/\\S+)\",\" \",text).split())\n",
        "    text = re.sub(r'RT[\\s]+','',text)\n",
        "    return text"
      ],
      "metadata": {
        "id": "Cdvfrm9YZ6mW"
      },
      "execution_count": null,
      "outputs": []
    },
    {
      "cell_type": "code",
      "source": [
        "df_content['Tweet'] = df_content['Tweet'].apply(cleaning_txt)\n",
        "df_content.drop_duplicates(subset='Tweet',inplace=True)"
      ],
      "metadata": {
        "id": "X3rftyxvZ8Wm"
      },
      "execution_count": null,
      "outputs": []
    },
    {
      "cell_type": "code",
      "source": [
        "df_content.head()"
      ],
      "metadata": {
        "id": "qjpCUnNpZ-Zm"
      },
      "execution_count": null,
      "outputs": []
    },
    {
      "cell_type": "code",
      "source": [
        "def Polarity(text):\n",
        "    analysis = TextBlob(text)\n",
        "    try:\n",
        "        analysis = analysis.translate(to=\"en\")\n",
        "    except Exception as e:\n",
        "        print(e)\n",
        "    return analysis.sentiment.polarity"
      ],
      "metadata": {
        "id": "NmYZch0ZZ_6H"
      },
      "execution_count": null,
      "outputs": []
    },
    {
      "cell_type": "code",
      "source": [
        "df_content['Polarity'] = df_content['Tweet'].apply(Polarity"
      ],
      "metadata": {
        "id": "TAZkAPkQaCD-"
      },
      "execution_count": null,
      "outputs": []
    },
    {
      "cell_type": "code",
      "source": [
        "\n",
        "df_content.head()"
      ],
      "metadata": {
        "id": "_OqeOghtaDiu"
      },
      "execution_count": null,
      "outputs": []
    },
    {
      "cell_type": "code",
      "source": [
        "def analysis_classify(polarity_value):\n",
        "    if polarity_value < 0:\n",
        "        return 'Negative'\n",
        "    elif polarity_value == 0:\n",
        "        return 'Neutral'\n",
        "    else:\n",
        "        return 'Positive'"
      ],
      "metadata": {
        "id": "xev-VAIIaHSH"
      },
      "execution_count": null,
      "outputs": []
    },
    {
      "cell_type": "code",
      "source": [
        "df_content['Classify'] = df_content['Polarity'].apply(analysis_classify)"
      ],
      "metadata": {
        "id": "YLdQyMWYaI1v"
      },
      "execution_count": null,
      "outputs": []
    },
    {
      "cell_type": "code",
      "source": [
        "df_content"
      ],
      "metadata": {
        "id": "1sJqUPwLaKIm"
      },
      "execution_count": null,
      "outputs": []
    },
    {
      "cell_type": "code",
      "source": [
        "positive_tweet = df_content[df_content.Classify == 'Positive']\n",
        "percent_positive = len(positive_tweet)/len(df_content) * 100\n",
        "print('Percentage',percent_positive,'%')"
      ],
      "metadata": {
        "id": "LE805nd-aMH2"
      },
      "execution_count": null,
      "outputs": []
    },
    {
      "cell_type": "code",
      "source": [
        "negative_tweet = df_content[df_content.Classify == 'Negative']\n",
        "percent_negative = len(negative_tweet)/len(df_content) * 100\n",
        "print('Percentage',percent_negative,'%')"
      ],
      "metadata": {
        "id": "L0YMFa2WaSVu"
      },
      "execution_count": null,
      "outputs": []
    },
    {
      "cell_type": "code",
      "source": [
        "netral_tweet = df_content[df_content.Classify == 'Neutral']\n",
        "percent_netral = len(netral_tweet)/len(df_content) * 100\n",
        "print('Percentage',percent_netral,'%')"
      ],
      "metadata": {
        "id": "tYpJXmXzaT-v"
      },
      "execution_count": null,
      "outputs": []
    },
    {
      "cell_type": "code",
      "source": [
        "df_content['Classify'].value_counts()\n",
        "\n",
        "plt.title('Sentiment Analysis Vaksinasi Covid19 in Indonesia')\n",
        "plt.xlabel('Sentiment')\n",
        "plt.ylabel('Counts')\n",
        "df_content['Classify'].value_counts().plot(kind='bar')\n",
        "plt.show"
      ],
      "metadata": {
        "id": "nJXkrVdWaVuO"
      },
      "execution_count": null,
      "outputs": []
    },
    {
      "cell_type": "code",
      "source": [
        "labels = df_content['Classify'].unique()\n",
        "sizes = [percent_positive,percent_negative,percent_netral]\n",
        "plt.pie(sizes,labels=labels,autopct='%1.1f%%',startangle=90,shadow=True)\n",
        "plt.title('Percentage of Sentiment Analysis Vaksinasi Covid19 in Indonesia')\n",
        "plt.axis('equal')\n",
        "plt.show()"
      ],
      "metadata": {
        "id": "LwBUmj0maXim"
      },
      "execution_count": null,
      "outputs": []
    }
  ]
}